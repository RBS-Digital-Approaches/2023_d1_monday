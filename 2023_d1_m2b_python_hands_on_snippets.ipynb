{
  "nbformat": 4,
  "nbformat_minor": 0,
  "metadata": {
    "colab": {
      "provenance": [],
      "collapsed_sections": [
        "FloqczTcSi0v",
        "snQSfyvkkuw6",
        "qA1cpuOsjV1o"
      ],
      "toc_visible": true
    },
    "kernelspec": {
      "name": "python3",
      "display_name": "Python 3"
    },
    "language_info": {
      "name": "python"
    }
  },
  "cells": [
    {
      "cell_type": "markdown",
      "metadata": {
        "id": "VaIq60ZYKZEQ"
      },
      "source": [
        "# Python hands-on with the five things a computer can do\n",
        "Carl provided a notebook with a high-level overview of the basic building blocks of pretty much any coding task. In this notebook, we'll put all of those into action to explore what seems like it should be a fairly simple question: in any given year, how many of the books printed by William Bowyer were by living authors, and how many were by dead ones?\n",
        "\n",
        "If you haven't done much coding before, it may seem like there end up being an awful lot of steps involved, but what we're doing is breaking down that broad question into the smaller \"computationally tractable\" tasks it takes to answer it. If you spend more time doing this kind of work, a lot of what we'll do in this notebook will come to seem completely routine.\n",
        "\n",
        "(This notebook provides code snippets with minimal discussion. We'll use this notebook in our class session. There's another notebook in today's `reference` folder that works through the same code, but with much fuller discussion.)"
      ]
    },
    {
      "cell_type": "markdown",
      "metadata": {
        "id": "EjEx3eDuVrvT"
      },
      "source": [
        "## Let's just think about the problem for a second\n",
        "If we were looking at these records one at a time in a browser window, we wouldn't have any trouble saying whether the author of the book was alive or dead at the time of publication.  \n",
        "\n",
        "Take a look at the first five records and, in the next cell, jot down some notes about what your thought process would be for determining which authors were living and which were dead when the following texts were published.\n",
        "\n",
        ">* Davila, Arrigo Caterino,\u001f(1576-1631). *The history of the civil wars of France*. (London:\u001fprinted for D. Browne...,\u001f MDCCLVIII. \\[1758\\]).\n",
        ">\n",
        ">* Holland, Richard,\u001f(1688-1730). *Observations on the small pox: or, An essay to discover a more effectual method of cure*. (London:\u001fprinted for John Brindley...,\u001f1728).\n",
        ">\n",
        ">* Hasledine, William,\u001f(1713 or 14-1773). *The beau and the academick*. (London: printed for J. Roberts,\u001f\\[1733\\]).\n",
        ">\n",
        "> * Clarke, John,\u001f(1687-1734).\n",
        "*A new grammar of the Latin tongue, comprising all necessary for grammar-schools*. (London: printed for L. Hawes, W. Clarke, and R. Collins..., M.DCC.LXVII. \\[1767\\]).\n",
        ">\n",
        "> * Spinckes, Nathaniel,\u001f(1654-1727). *The new pretenders to prophecy re-examined*. (London: printed for Richard Sare..., 1710).\n",
        "\n",
        "Take a minute or to think about the mental processes involved in deciding whether the author of the work was alive or dead in the year the book was published and jot a phrase/sentence or two about them in the cell below. Also take note of anything you see in these summaries that might cause you to have to spend a fraction of a second longer considering some of them.\n"
      ]
    },
    {
      "cell_type": "code",
      "metadata": {
        "id": "aD0G3H7RdOmk"
      },
      "source": [
        "#Jot down some notes on how you go about answering the simple question of\n",
        "#whether the author of the record was living or dead in the year of publication.\n",
        "\n",
        "\n",
        "\n",
        "\n",
        "\n"
      ],
      "execution_count": null,
      "outputs": []
    },
    {
      "cell_type": "markdown",
      "metadata": {
        "id": "3bCSqW_uW8TG"
      },
      "source": [
        "## Getting the tools we need\n"
      ]
    },
    {
      "cell_type": "code",
      "metadata": {
        "id": "WUnt2efZJw-S"
      },
      "source": [
        "#Code cell #1\n",
        "#Download and install the Pymarc package so that it's available for use in our\n",
        "#Python environment\n",
        "!pip install pymarc"
      ],
      "execution_count": null,
      "outputs": []
    },
    {
      "cell_type": "code",
      "metadata": {
        "id": "dYaWjcQc1l9u"
      },
      "source": [
        "#Code cell #2\n",
        "#Import the MARCReader module from the Pymarc package.\n",
        "from pymarc import MARCReader"
      ],
      "execution_count": null,
      "outputs": []
    },
    {
      "cell_type": "markdown",
      "metadata": {
        "id": "RknXHaNb2Gq_"
      },
      "source": [
        "## Opening a MARC file\n"
      ]
    },
    {
      "cell_type": "code",
      "metadata": {
        "id": "9XrQfyqq4lp0"
      },
      "source": [
        "#Code cell #3\n",
        "from google.colab import drive\n",
        "drive.mount('/gdrive/')"
      ],
      "execution_count": null,
      "outputs": []
    },
    {
      "cell_type": "code",
      "metadata": {
        "id": "6jN5hzPp7ORj"
      },
      "source": [
        "#Code cell #4\n",
        "directory_path = '/gdrive/MyDrive/rbs_digital_approaches_2023/2023_data_class/'"
      ],
      "execution_count": null,
      "outputs": []
    },
    {
      "cell_type": "code",
      "metadata": {
        "id": "BQlE3J998jts"
      },
      "source": [
        "#Code cell #5\n",
        "#Open a file in readable binary mode and refer to it as marc_file\n",
        "with open(directory_path + '2023_d1_estc_bowyer_sample.mrc', 'rb') as marc_file :\n",
        "  #Give marc_file to MARCReader and refer to whatever we get back as marc_reader\n",
        "  marc_reader = MARCReader(marc_file)\n",
        "  for record in marc_reader :\n",
        "    print(record)"
      ],
      "execution_count": null,
      "outputs": []
    },
    {
      "cell_type": "markdown",
      "metadata": {
        "id": "5WsVWMsoIjTd"
      },
      "source": [
        "### Getting individual fields from each MARC record"
      ]
    },
    {
      "cell_type": "code",
      "metadata": {
        "id": "8W4LeTochpE4"
      },
      "source": [
        "with open(directory_path + '2023_d1_estc_bowyer_sample.mrc', 'rb') as marc_file :\n",
        "  marc_reader = MARCReader(marc_file)\n",
        "  for record in marc_reader :\n",
        "    print(record['245'])"
      ],
      "execution_count": null,
      "outputs": []
    },
    {
      "cell_type": "code",
      "metadata": {
        "id": "tP3jrYU2lVza"
      },
      "source": [
        "#Code cell #6\n",
        "with open(directory_path + '2023_d1_estc_bowyer_sample.mrc', 'rb') as marc_file :\n",
        "  marc_reader = MARCReader(marc_file)\n",
        "  for record in marc_reader :\n",
        "    print(record['245']['a'])"
      ],
      "execution_count": null,
      "outputs": []
    },
    {
      "cell_type": "code",
      "metadata": {
        "id": "gOcCDsAJmNg_"
      },
      "source": [
        "#Code cell #7\n",
        "with open(directory_path + '2023_d1_estc_bowyer_sample.mrc', 'rb') as marc_file :\n",
        "  marc_reader = MARCReader(marc_file)\n",
        "  for record in marc_reader :\n",
        "    full_title = record['245']['a'] + record['245']['b']\n",
        "    print(full_title)"
      ],
      "execution_count": null,
      "outputs": []
    },
    {
      "cell_type": "code",
      "metadata": {
        "id": "Vrx8ZicJmaaP"
      },
      "source": [
        "#Write-your-own-code cell A\n",
        "with open(directory_path + '2023_d1_estc_bowyer_sample.mrc', 'rb') as marc_file :\n",
        "  marc_reader = MARCReader(marc_file)\n",
        "  for record in marc_reader :\n",
        "    #Construct the value of the full_title variable in a way that includes a\n",
        "    #space between the content of the two subfields\n",
        "    full_title =\n",
        "    print(full_title)"
      ],
      "execution_count": null,
      "outputs": []
    },
    {
      "cell_type": "markdown",
      "metadata": {
        "id": "49t2r3oy9xEv"
      },
      "source": [
        "### Conditionals"
      ]
    },
    {
      "cell_type": "code",
      "metadata": {
        "id": "99EjvwPYRB5c"
      },
      "source": [
        "#Code cell 8\n",
        "#This cell will raise an error message\n",
        "with open(directory_path + '2023_d1_estc_bowyer_sample.mrc', 'rb') as marc_file :\n",
        "  marc_reader = MARCReader(marc_file)\n",
        "  for record in marc_reader :\n",
        "    print(record['100']['a'] + ' ' + record['100']['d'])"
      ],
      "execution_count": null,
      "outputs": []
    },
    {
      "cell_type": "code",
      "metadata": {
        "id": "rMGj5tNCoVb3"
      },
      "source": [
        "#Code cell #9\n",
        "with open(directory_path + '2023_d1_estc_bowyer_sample.mrc', 'rb') as marc_file :\n",
        "  marc_reader = MARCReader(marc_file)\n",
        "  for record in marc_reader :\n",
        "    print(record)"
      ],
      "execution_count": null,
      "outputs": []
    },
    {
      "cell_type": "code",
      "metadata": {
        "id": "5TTxC5pejnYG"
      },
      "source": [
        "#Code cell #10\n",
        "with open(directory_path + '2023_d1_estc_bowyer_sample.mrc', 'rb') as marc_file :\n",
        "  marc_reader = MARCReader(marc_file)\n",
        "  for record in marc_reader :\n",
        "    if record.get('100', None) is not None :\n",
        "      print(record['100']['a'] + ' ' + record['100']['d'])\n",
        "    else :\n",
        "      print('No 100 field')"
      ],
      "execution_count": null,
      "outputs": []
    },
    {
      "cell_type": "markdown",
      "metadata": {
        "id": "1IdeFM7Cj_be"
      },
      "source": [
        "### Try this for yourself\n",
        "In the cell below, write code that will:\n",
        "1. Open the MARC file we've been working with;\n",
        "2. Pass that file to MARCReader\n",
        "3. Iterate through the records and print:\n",
        "    * The contents of field 100, subfield a and field 100, subfield d, **if that field exists**\n",
        "    * The contents of field 260, subfield c, **if that field exists**"
      ]
    },
    {
      "cell_type": "code",
      "metadata": {
        "id": "G40mjSK3j-mB"
      },
      "source": [
        "#Write-your-own-code cell B\n",
        "#Your code goes here:\n"
      ],
      "execution_count": null,
      "outputs": []
    },
    {
      "cell_type": "markdown",
      "metadata": {
        "id": "snQSfyvkkuw6"
      },
      "source": [
        "### One solution\n",
        "If you're running into trouble, click to reveal a solution."
      ]
    },
    {
      "cell_type": "code",
      "metadata": {
        "id": "5jEC1phEk2OJ",
        "cellView": "form"
      },
      "source": [
        "#@title\n",
        "#Suggestion code cell 1\n",
        "with open(directory_path + '2023_d1_estc_bowyer_sample.mrc', 'rb') as marc_file :\n",
        "  marc_reader = MARCReader(marc_file)\n",
        "  for record in marc_reader :\n",
        "    if record.get('100', None) is not None :\n",
        "      print(record['100']['a'] + ' ' + record['100']['d'])\n",
        "    if record.get('260', None) is not None :\n",
        "      print(record['260']['c'])"
      ],
      "execution_count": null,
      "outputs": []
    },
    {
      "cell_type": "markdown",
      "metadata": {
        "id": "E2iAGlJslUwi"
      },
      "source": [
        "## Getting the information we need\n",
        "The MARC 008 field is a structured data field that tells us about things like country of publication, language, and date of publication. Let's have a look at that field. (Note that MARC \"control fields,\" including 008 field, don't have subfields, so we need to use `.data` to get the content of those fields.)"
      ]
    },
    {
      "cell_type": "code",
      "metadata": {
        "id": "3kWFtdMsCT5n"
      },
      "source": [
        "#Code cell #11\n",
        "with open(directory_path + '2023_d1_estc_bowyer_sample.mrc', 'rb') as marc_file :\n",
        "  marc_reader = MARCReader(marc_file)\n",
        "  for record in marc_reader :\n",
        "    print(record['008'].data)"
      ],
      "execution_count": null,
      "outputs": []
    },
    {
      "cell_type": "markdown",
      "metadata": {
        "id": "GSlnopr6EnjT"
      },
      "source": [
        "Looking at [the documentation for the 008 field](https://www.loc.gov/marc/bibliographic/bd008a.html), we can see what parts of this fixed-length field are actually helpful to us.\n",
        "* Character 6 tells us what *kind* of date (or dates) the field provides: a single year, multiple years, etc. (There are only single years in this subset, but there are other combinations to be found in the full set.)\n",
        "* If there's only one year, we'll find it in characters 7-10; if there are two years, characters 7-10 will give us the first year and characters 11-14 will give us the second year."
      ]
    },
    {
      "cell_type": "markdown",
      "metadata": {
        "id": "jLlwNKOjuwZj"
      },
      "source": [
        "### Slicing a substring from a longer string\n",
        "* In Python, we start counting at zero, rather than one. (The MARC documentation also starts counting at zero, so we're okay there.)\n",
        "* In Python, when we're slicing something like a string of text, the starting point of a slice is inclusive, but the ending point is exclusive: we get everything up to *but not including* the ending.\n",
        "\n",
        "You can know how many elements you're going to get back by subtracting the first number from the second: `[7:10]` would only get us three digits. We want `[7:11]`, instead, which will get us the four characters starting at character 7 and going up to (but not including) character 11."
      ]
    },
    {
      "cell_type": "code",
      "metadata": {
        "id": "5UwBWkScshv3"
      },
      "source": [
        "#Code cell #12\n",
        "with open(directory_path + '2023_d1_estc_bowyer_sample.mrc', 'rb') as marc_file :\n",
        "  marc_reader = MARCReader(marc_file)\n",
        "  for record in marc_reader :\n",
        "    print(record['008'].data[7:11])"
      ],
      "execution_count": null,
      "outputs": []
    },
    {
      "cell_type": "markdown",
      "metadata": {
        "id": "7JNqNLwlu-2n"
      },
      "source": [
        "### More ways of manipulating strings of text\n",
        "Python has a lot of different [methods for working with strings of text](https://docs.python.org/3/library/stdtypes.html?highlight=split#string-methods)—more than we can reasonably cover in an hour or so. We'll try to explain various methods that we use as they come up in the code we'll use this week, but feel free to ask about anything that seems unclear."
      ]
    },
    {
      "cell_type": "code",
      "metadata": {
        "id": "Ly9GK9NVvj5L"
      },
      "source": [
        "#Code cell #13\n",
        "with open(directory_path + '2023_d1_estc_bowyer_sample.mrc', 'rb') as marc_file :\n",
        "  marc_reader = MARCReader(marc_file)\n",
        "  for record in marc_reader :\n",
        "    if record.get('100', None) is not None :\n",
        "      print(record['100']['d'])"
      ],
      "execution_count": null,
      "outputs": []
    },
    {
      "cell_type": "markdown",
      "metadata": {
        "id": "2S2edTgqxsGs"
      },
      "source": [
        "#### Finding a substring"
      ]
    },
    {
      "cell_type": "code",
      "metadata": {
        "id": "ns1vuGEeytze"
      },
      "source": [
        "#Code cell #14\n",
        "with open(directory_path + '2023_d1_estc_bowyer_sample.mrc', 'rb') as marc_file :\n",
        "  marc_reader = MARCReader(marc_file)\n",
        "  for record in marc_reader :\n",
        "    if record.get('100', None) is not None :\n",
        "      dates = record['100']['d']\n",
        "      print(\"record['100']['d'] = \" + dates)\n",
        "      #Find the hyphen\n",
        "      hyphen_position = dates.find('-')\n",
        "      #What is hyphen_position, actually?\n",
        "      print('hyphen_position = ' + str(hyphen_position))\n",
        "\n",
        "      #Use hyphen position as the starting point of our slice. No ending position\n",
        "      #means we'll get the remainder of the string\n",
        "      print('dates[hyphen_position:] = ' + dates[hyphen_position:])\n",
        "\n",
        "      #Opening indices are inclusive. Add 1 to get rid of the hyphen\n",
        "      print('dates[hyphen_position+1:] = ' + dates[hyphen_position+1:])\n",
        "\n",
        "      #One-liner\n",
        "      print(dates[dates.find('-')+1:])\n",
        "      print('---------')\n"
      ],
      "execution_count": null,
      "outputs": []
    },
    {
      "cell_type": "markdown",
      "metadata": {
        "id": "8FLltAM001ZU"
      },
      "source": [
        "We need to get rid of the period at the end of the string, and there are several different approaches we could take.\n",
        "* We could use `find()` again to find the period and use its position as our ending index.\n",
        "* We could use an ending index of -1 to go up to (but not including) the last character in the string\n",
        "* We could use the `strip()` method to eliminate the period from the string.\n",
        "\n",
        "Any of those approaches will give us the same result."
      ]
    },
    {
      "cell_type": "code",
      "metadata": {
        "id": "CwKb7HMH2ikA"
      },
      "source": [
        "#Code cell #15\n",
        "with open(directory_path + '2023_d1_estc_bowyer_sample.mrc', 'rb') as marc_file :\n",
        "  marc_reader = MARCReader(marc_file)\n",
        "  for record in marc_reader :\n",
        "    if record.get('100', None) is not None :\n",
        "      dates = record['100']['d']\n",
        "      print('Finding the period as an ending index = ' + \\\n",
        "            dates[dates.find('-')+1:dates.find('.')])\n",
        "      print('Using -1 as an ending index = ' + dates[dates.find('-')+1:-1])\n",
        "      print(\"Using strip('.') = \" + dates[dates.find('-')+1:].strip('.'))\n",
        "      print('----------')"
      ],
      "execution_count": null,
      "outputs": []
    },
    {
      "cell_type": "markdown",
      "metadata": {
        "id": "pJSCkNoUX4iP"
      },
      "source": [
        "#### Splitting a string to a list"
      ]
    },
    {
      "cell_type": "code",
      "metadata": {
        "id": "Tu5mMTKOYR_W"
      },
      "source": [
        "#Code cell #16\n",
        "with open(directory_path + '2023_d1_estc_bowyer_sample.mrc', 'rb') as marc_file :\n",
        "  marc_reader = MARCReader(marc_file)\n",
        "  for record in marc_reader :\n",
        "    if record.get('100', None) is not None :\n",
        "      date_string = record['100']['d']\n",
        "      dates = date_string.split('-')\n",
        "      print(dates)"
      ],
      "execution_count": null,
      "outputs": []
    },
    {
      "cell_type": "markdown",
      "metadata": {
        "id": "DsS3uFSYaDjB"
      },
      "source": [
        "Working with the elements of a list works just like getting substrings of longer strings, because items in lists also have indices, and they behave the same way:\n",
        "\n",
        "* `my_list[1:5]` would get the second through fifth items in a list\n",
        "* `my_list[2:]` would return everything from the third item of the list to the end\n",
        "* `my_list[:-1]` would return all of the items except the last\n",
        "\n",
        "Let's have a look at the structure of a list using `enumerate()` (which explicitly returns list indices as well as values).\n"
      ]
    },
    {
      "cell_type": "code",
      "metadata": {
        "id": "fOJcf4embPzf"
      },
      "source": [
        "#Code cell #17\n",
        "with open(directory_path + '2023_d1_estc_bowyer_sample.mrc', 'rb') as marc_file :\n",
        "  marc_reader = MARCReader(marc_file)\n",
        "  for record in marc_reader :\n",
        "    if record.get('100', None) is not None :\n",
        "      date_string = record['100']['d']\n",
        "      dates = date_string.split('-')\n",
        "      print(dates)\n",
        "      #Note: another for loop\n",
        "      for index, value in enumerate(dates) :\n",
        "        print(str(index) + ': ' + value)\n",
        "      print(dates[0])\n",
        "      print(dates[1])\n",
        "      print('----------')"
      ],
      "execution_count": null,
      "outputs": []
    },
    {
      "cell_type": "markdown",
      "metadata": {
        "id": "AQPf4iiEb986"
      },
      "source": [
        "### Write your own code: assign list items to variables\n",
        "Fill in the code to assign items from the `dates` list to two new variables (`birth_year` and `death_year`)."
      ]
    },
    {
      "cell_type": "code",
      "metadata": {
        "id": "6NcEHBIudp1h"
      },
      "source": [
        "#Code cell #18\n",
        "with open(directory_path + '2023_d1_estc_bowyer_sample.mrc', 'rb') as marc_file :\n",
        "  marc_reader = MARCReader(marc_file)\n",
        "  for record in marc_reader :\n",
        "    if record.get('100', None) is not None :\n",
        "      author_name = record['100']['a']\n",
        "      date_string = record['100']['d']\n",
        "      dates = date_string.split('-')\n",
        "      #Assign values to the variables birth_year and death_year, using the list index of\n",
        "      #the appropriate item in the dates list\n",
        "      birth_year =\n",
        "      death_year =\n",
        "      print(author_name)\n",
        "      print('--Birth year: ' + birth_year)\n",
        "      print('--Death year: ' + death_year)"
      ],
      "execution_count": null,
      "outputs": []
    },
    {
      "cell_type": "markdown",
      "metadata": {
        "id": "qA1cpuOsjV1o"
      },
      "source": [
        "#### Solution\n",
        "If you're having trouble, click here to reveal a solution."
      ]
    },
    {
      "cell_type": "code",
      "metadata": {
        "id": "PpddC9FtjdGR"
      },
      "source": [
        "#Suggestion code cell 2\n",
        "with open(directory_path + '2023_d1_estc_bowyer_sample.mrc', 'rb') as marc_file :\n",
        "  marc_reader = MARCReader(marc_file)\n",
        "  for record in marc_reader :\n",
        "    if record.get('100', None) is not None :\n",
        "      author_name = record['100']['a']\n",
        "      date_string = record['100']['d']\n",
        "      dates = date_string.split('-')\n",
        "      #Assign values to the variables birth_year and death_year, using the list index of\n",
        "      #the appropriate item in the dates list\n",
        "      birth_year = dates[0]\n",
        "      #Let's go ahead and remove the period from the end of the death year now,\n",
        "      #rather than having to do it in a second step.\n",
        "      death_year = dates[1].rstrip('.')\n",
        "      print(author_name)\n",
        "      print('--Birth year: ' + birth_year)\n",
        "      print('--Death year: ' + death_year)"
      ],
      "execution_count": null,
      "outputs": []
    },
    {
      "cell_type": "markdown",
      "metadata": {
        "id": "gGTYWaBqgvvx"
      },
      "source": [
        "### You thought we were pretty much in the clear at this point, didn't you?\n",
        "\n"
      ]
    },
    {
      "cell_type": "code",
      "metadata": {
        "id": "nf4LFJ3dkXd_"
      },
      "source": [
        "#Code cell #19\n",
        "with open(directory_path + '2023_d1_estc_bowyer_problem_sample.mrc', 'rb') as marc_file :\n",
        "  marc_reader = MARCReader(marc_file)\n",
        "  for record in marc_reader :\n",
        "    if record.get('100', None) is not None :\n",
        "      author_name = record['100']['a']\n",
        "      #A new wrinkle in this particular set, and a different bit of PyMarc...\n",
        "      if record.get('100', None).get('c', None) is not None :\n",
        "        author_name += ' ' + record['100']['c']\n",
        "      date_string = record['100']['d']\n",
        "      print(author_name + ' (' + date_string + ')')"
      ],
      "execution_count": null,
      "outputs": []
    },
    {
      "cell_type": "markdown",
      "metadata": {
        "id": "vzrLmJsJoNNm"
      },
      "source": [
        "### Introducing Regular Expressions\n",
        "Regular expressions provide us with a way for searching for *patterns* of text, even if we don't know the specific form that the text will take.\n",
        "\n",
        "Consider US phone numbers, for example, which often take the form of (xxx) xxx-xxxx. A phone number should only include numerical characters, and not letters.\n",
        "\n",
        "Written as a regular expression, that might take the form:\n",
        "> `'\\([0-9]{3}\\)\\s[0-9]{3}\\-[0-9]{4}'`\n",
        "\n",
        "* The backward slash \"escapes\" certain characters that would otherwise be interpreted as part of the regular expression (like parentheses and hyphens in this example). When a character is \"escaped,\" we are searching for the character, itself.\n",
        "* The square brackets enclose sets of characters that *could* appear in the pattern we're looking for."
      ]
    },
    {
      "cell_type": "markdown",
      "metadata": {
        "id": "jnL1UmV1slQx"
      },
      "source": [
        "#### Dealing with unhelpful date fields\n",
        "For our purposes, there are a few different patterns that are going to spell different kinds of trouble (roughly in descending order of severity):\n",
        "* Any date field that begins with \"b.\" (There's no death year. We can't use this at all.)\n",
        "* Any date field that begins with \"fl.\" (Those aren't necessarily real dates. We shouldn't use these.)\n",
        "* Any date field that contains \"ca.\"\n",
        "  - If it's expressing approximation about the birth year (i.e., before the hyphen), we might be able to use it.\n",
        "  - If it's expressing approximation about the death date (i.e., after the hyphen), we can't use it.\n",
        "* Any date field that contains \"or\"\n",
        "  - If it's expressing a choice between birth years, but the death year is solid, we're okay with it\n",
        "  - If the birth year is solid, but the death year is uncertain, we're less okay with it\n",
        "* Any date field beginning with \"d.\" (At least we have a death year, though we should be on the lookout for other tricky bits like \"d. ca. 1778\"  or \"d. 1750 or 51\")\n",
        "\n",
        "Rather than trying to explain the regular expressions and control structures here, I'll add comments to the code to explain things as we go.\n",
        "\n",
        "Note that I'm using `re.compile()` to define my regular expressions. I could simply write the regular expressions in my control structures, but I prefer to compile them first for two reasons:\n",
        "1. It strikes me as usually more readable use a variable name as the first argument in `re.search()` or `re.findall()`, rather than a potentially gnarly regular expression.\n",
        "2. It allows me to reuse the same regular expression in different places, if need be."
      ]
    },
    {
      "cell_type": "code",
      "metadata": {
        "id": "Cgr5ccCiwfBQ"
      },
      "source": [
        "#Code cell 20\n",
        "#We need to import Python's re (Regular Expression) library to be able to work\n",
        "#with regular expressions\n",
        "import re\n",
        "\n",
        "#Compile a regular expression to match a series of four digits\n",
        "#(equivalent to [0-9]{4})\n",
        "year_pattern = re.compile(r'\\d{4}')\n",
        "\n",
        "#Compile a regular expression to match strings with starting with \"b.\" or \"fl.\"\n",
        "#(any combination of one or two of the characters b, f, or l, optionally\n",
        "#followed by a period); OR (the \"|\" signals alternatives) including a hyphen,\n",
        "#optionally followed by a space, followed by the characters \"ca\", optionally\n",
        "#followed by a period.\n",
        "born_flourished_cadeath = re.compile(r'^[bfl]{1,2}\\.?|\\-\\s?ca\\.?')\n",
        "\n",
        "#Compile a regular expression to match any string starting with \"d\", optionally\n",
        "#followed by a period.\n",
        "died = re.compile(r'^d\\.?')\n",
        "\n",
        "#Compile a regular expression to match any string with \"or\" appearing after a\n",
        "#hyphen (that is, a hyphen followed by one or more character of any kind, followed\n",
        "#by a space, the characters \"or\" and another space).\n",
        "ordeath = re.compile(r'\\-.+\\sor\\s')\n",
        "\n",
        "with open(directory_path + '2023_d1_estc_bowyer_problem_sample.mrc', 'rb') as marc_file :\n",
        "  marc_reader = MARCReader(marc_file)\n",
        "  for record in marc_reader :\n",
        "    if record.get('100', None) is not None :\n",
        "      author_name = record['100']['a']\n",
        "      date_string = record['100']['d']\n",
        "      print(author_name + ' (' + date_string + ')')\n",
        "      #Look for occurrences of the year pattern (there should be either one or\n",
        "      # two,but some records may not have valid years [e.g. \"17th-century\"])\n",
        "      if re.findall(year_pattern, date_string) is not None :\n",
        "\n",
        "        #If the born_flourished_cadeath pattern is found (or, I guess, isn't\n",
        "        #not found), we can't use this record.\n",
        "        if re.search(born_flourished_cadeath, date_string) is not None :\n",
        "          print('--Cannot use this date field.')\n",
        "\n",
        "\n",
        "        #If the died pattern is found...\n",
        "        elif re.search(died, date_string) is not None :\n",
        "          #Print the first (i.e. only) year\n",
        "          print('--' + re.findall(year_pattern, date_string)[0])\n",
        "\n",
        "        #If the ordeath pattern is found...\n",
        "        elif re.search(ordeath, date_string) is not None :\n",
        "          #Print the second (i.e., death) year\n",
        "          print('--' + re.findall(year_pattern, date_string)[1])\n",
        "\n",
        "        #In any other case, we should be dealing with a standard yyyy-yyyy pattern\n",
        "        #So find all instances of the year_pattern and print the second one.\n",
        "        else :\n",
        "          print('--' + re.findall(year_pattern, date_string)[1])\n",
        "\n",
        "      else :\n",
        "        print('No valid dates')\n",
        "\n"
      ],
      "execution_count": null,
      "outputs": []
    },
    {
      "cell_type": "markdown",
      "metadata": {
        "id": "5UcaTp5UDDgw"
      },
      "source": [
        "#### Refactoring code to create reusable functions"
      ]
    },
    {
      "cell_type": "code",
      "metadata": {
        "id": "eIG4nwmHD_h8"
      },
      "source": [
        "#Code cell 21\n",
        "def get_death_year(date_string) :\n",
        "  year_pattern = re.compile(r'\\d{4}')\n",
        "  born_flourished_cadeath = re.compile(r'^[bfl]{1,2}\\.?|\\-\\s?ca\\.?')\n",
        "  died = re.compile(r'^d\\.?')\n",
        "  ordeath = re.compile(r'\\-.+\\sor\\s')\n",
        "\n",
        "  if re.search(year_pattern, date_string) is None :\n",
        "    #We don't just want to print results now, we want to process a string and\n",
        "    #produce a result. If there are no valid years, we need a way to return\n",
        "    #a result of None.\n",
        "    result = None\n",
        "\n",
        "  elif re.search(born_flourished_cadeath, date_string) is not None :\n",
        "    #If we can't provide a *usable* year, we should also return a result of None\n",
        "    result = None\n",
        "\n",
        "  elif re.search(died, date_string) is not None :\n",
        "    result = re.findall(year_pattern, date_string)[0]\n",
        "\n",
        "  elif re.search(ordeath, date_string) is not None :\n",
        "    result = re.findall(year_pattern, date_string)[1]\n",
        "\n",
        "  else :\n",
        "    result = re.findall(year_pattern, date_string)[1]\n",
        "\n",
        "  return result"
      ],
      "execution_count": null,
      "outputs": []
    },
    {
      "cell_type": "code",
      "metadata": {
        "id": "vYrr3j0TFF_-"
      },
      "source": [
        "#Code cell 22\n",
        "with open(directory_path + '2023_d1_estc_bowyer_problem_sample.mrc', 'rb') as marc_file :\n",
        "  marc_reader = MARCReader(marc_file)\n",
        "  for record in marc_reader :\n",
        "    if record.get('100', None) is not None:\n",
        "      author_name = record['100']['a']\n",
        "      date_string = record['100']['d']\n",
        "\n",
        "      #Call the get_death_year function, passing date_string as the argument\n",
        "      death_year = get_death_year(date_string)\n",
        "\n",
        "      #Depending on the result that the get_death_year function returns, do\n",
        "      #something\n",
        "      if death_year is not None :\n",
        "        print(author_name + ' died in ' + death_year)\n",
        "      else :\n",
        "        print('No death year for ' + author_name)"
      ],
      "execution_count": null,
      "outputs": []
    },
    {
      "cell_type": "code",
      "metadata": {
        "id": "0005rcSIFrOg"
      },
      "source": [
        "#Code cell 23\n",
        "with open(directory_path + '2023_d1_estc_bowyer_sample.mrc', 'rb') as marc_file :\n",
        "  marc_reader = MARCReader(marc_file)\n",
        "  for record in marc_reader :\n",
        "    if record.get('100', None) is not None :\n",
        "      #You know, let's change around with this author name a little...\n",
        "      author_name = record['100']['a'].rstrip(',')\n",
        "      author_name_parts = author_name.split(', ')\n",
        "      author_name = author_name_parts[1] + ' ' + author_name_parts[0]\n",
        "      date_string = record['100']['d']\n",
        "      death_year = get_death_year(date_string)\n",
        "      if death_year is not None :\n",
        "        print(author_name + ' died in ' + death_year)\n",
        "      else :\n",
        "        print('No death year for ' + author_name)"
      ],
      "execution_count": null,
      "outputs": []
    },
    {
      "cell_type": "markdown",
      "metadata": {
        "id": "Q__lvhu1ISsT"
      },
      "source": [
        "## So, about data types..."
      ]
    },
    {
      "cell_type": "code",
      "metadata": {
        "id": "VY8j0TvWJnLU"
      },
      "source": [
        "#Code cell 24\n",
        "with open(directory_path + '2023_d1_estc_bowyer_sample.mrc', 'rb') as marc_file :\n",
        "  marc_reader = MARCReader(marc_file)\n",
        "  for record in marc_reader :\n",
        "    pub_year = record['008'].data[7:11]\n",
        "    print('Publication year: ' + pub_year)\n",
        "    print(type(pub_year))"
      ],
      "execution_count": null,
      "outputs": []
    },
    {
      "cell_type": "code",
      "metadata": {
        "id": "OCpac9mnNt-3"
      },
      "source": [
        "#Code cell 25\n",
        "with open(directory_path + '2023_d1_estc_bowyer_full.mrc', 'rb') as marc_file :\n",
        "  marc_reader = MARCReader(marc_file)\n",
        "  for record in marc_reader :\n",
        "    print(record['001'].data)\n",
        "    #Get a substring from MARC field 008 and convert it to an integer\n",
        "    pub_year = int(record['008'].data[7:11])\n",
        "    if record.get('100', None) is not None :\n",
        "      author_name = record['100']['a'].rstrip(',')\n",
        "      #Just in case some records don't have a date for the author, at all,\n",
        "      #as can happen with ancient authors as well as pseudonymous ones.\n",
        "      if record.get('100', None).get('d', None) is not None :\n",
        "        date_string = record['100']['d']\n",
        "        death_year = get_death_year(date_string)\n",
        "        if death_year is not None :\n",
        "          #Convert the death_year to an integer\n",
        "          death_year = int(death_year)\n",
        "          if death_year > pub_year :\n",
        "            print(author_name + ' died in ' + str(death_year) + ', and so was alive in ' + str(pub_year))\n",
        "          elif death_year == pub_year :\n",
        "            print(author_name + ' died in the same year the work was published. Need more information.')\n",
        "          else :\n",
        "            print(author_name + ' died in ' + str(death_year) + ', and so was already dead by ' + str(pub_year))\n",
        "      else :\n",
        "        print('No dates for ' + author_name)"
      ],
      "execution_count": null,
      "outputs": []
    },
    {
      "cell_type": "markdown",
      "metadata": {
        "id": "c3cA-35JWQIc"
      },
      "source": [
        "## Construct a data structure to hold on to all this information\n",
        "For much of the week, we'll be working with a data type called the DataFrame, which is actually not native to Python, but is made available by the now ubiquitous `pandas` package. For now, though, let's stick with native Python data types. We've seen strings and lists, now it's time for a \"dictionary.\"\n",
        "\n",
        "For our purposes, let's keep track of living vs. dead authors for each year. One way to organize our data might be:\n",
        "\n",
        "```\n",
        "{\n",
        "  1710:\n",
        "        {'total_works': <integer-value>,\n",
        "         'no_author': <integer_value>,\n",
        "         'living_authors': <integer-value>,\n",
        "         'dead_authors': <integer-value>,\n",
        "         'ambiguous': <integer_value>\n",
        "        },\n",
        "  1711:\n",
        "        {'total_works': <integer-value>,\n",
        "         'no_author': <integer_value>,\n",
        "         'living_authors': <integer-value>,\n",
        "         'dead_authors': <integer-value>,\n",
        "         'ambiguous': <integer_value>\n",
        "        },\n",
        "...\n",
        "  1778:\n",
        "        {'total_works': <integer-value>,\n",
        "         'no_author': <integer_value>,\n",
        "         'living_authors': <integer-value>,\n",
        "         'dead_authors': <integer-value>,\n",
        "         'ambiguous': <integer_value>\n",
        "        }\n",
        "}\n",
        "```\n"
      ]
    },
    {
      "cell_type": "code",
      "metadata": {
        "id": "mL_DMREFaUb3"
      },
      "source": [
        "#Code cell #26\n",
        "#Create an empty dictionary to hold our information\n",
        "author_count = {}\n",
        "\n",
        "with open(directory_path + '2023_d1_estc_bowyer_full.mrc', 'rb') as marc_file :\n",
        "  marc_reader = MARCReader(marc_file)\n",
        "  for record in marc_reader :\n",
        "    #Get a substring from MARC field 008 and convert it to an integer\n",
        "    pub_year = int(record['008'].data[7:11])\n",
        "\n",
        "    #If we don't already have an entry in the author_count dictionary for this\n",
        "    #year, create one, with the year as a key. Give that key a value of a\n",
        "    #dictionary starting with empty counts for all the categories\n",
        "    author_count.setdefault(pub_year, {'total_works': 0,\n",
        "                                       'no_author': 0,\n",
        "                                       'living_authors': 0,\n",
        "                                       'dead_authors': 0,\n",
        "                                       'ambiguous': 0\n",
        "                                       })\n",
        "    #Immediately increase the number of total works—we don't know anything else\n",
        "    #yet, but we do know that much.\n",
        "    author_count[pub_year]['total_works'] += 1\n",
        "\n",
        "    if record.get('100', None) is not None :\n",
        "      author_name = record['100']['a'].rstrip(',')\n",
        "      #Just in case some records don't have a date for the author, at all,\n",
        "      #as can happen with ancient authors as well as pseudonymous ones.\n",
        "      if record.get('100', None).get('d', None) is not None :\n",
        "        date_string = record['100']['d']\n",
        "\n",
        "        #Pass the death year (still a string) to the get_death_year function\n",
        "        death_year = get_death_year(date_string)\n",
        "\n",
        "        #If we get back a result from get_death_year other than 'None'...\n",
        "        if death_year is not None :\n",
        "\n",
        "          #Turn that result into an integer\n",
        "          death_year = int(death_year)\n",
        "\n",
        "          #Compare the death year to the publication year, and increment\n",
        "          #values in our dictionary accordingly\n",
        "          if death_year > pub_year :\n",
        "            author_count[pub_year]['living_authors'] += 1\n",
        "          elif death_year == pub_year :\n",
        "            author_count[pub_year]['ambiguous'] += 1\n",
        "          else :\n",
        "            author_count[pub_year]['dead_authors'] += 1\n",
        "\n",
        "      #If there are no dates\n",
        "      else :\n",
        "        author_count[pub_year]['ambiguous'] += 1\n",
        "    #If there's no author at all\n",
        "    else :\n",
        "      author_count[pub_year]['no_author'] += 1"
      ],
      "execution_count": null,
      "outputs": []
    },
    {
      "cell_type": "code",
      "metadata": {
        "id": "Q231Xq82eKqO"
      },
      "source": [
        "#Code cell #27\n",
        "for k, v in author_count.items() :\n",
        "  print(k)\n",
        "  print(v)"
      ],
      "execution_count": null,
      "outputs": []
    },
    {
      "cell_type": "markdown",
      "metadata": {
        "id": "O4KfMVuMeksW"
      },
      "source": [
        "## Do something with these data\n",
        "Now we have all our data in a dictionary, we'll want to do something with them so we can get a sense of the answer to our question. First we'll save the data to a spreadsheet, then we'll construct a (rudimentary) bar chart."
      ]
    },
    {
      "cell_type": "markdown",
      "metadata": {
        "id": "jJ9wK3kQfADB"
      },
      "source": [
        "### Saving to a file\n",
        "For the sake of convenience, we'll use the `pandas` package to convert the data in our dictionary to a DataFrame and save it as an Excel spreadsheet. (We could use the native Python `csv` package and export this as a comma-separated-value file. Vanilla .csv files *definitely* have their uses. But so do Excel files.)"
      ]
    },
    {
      "cell_type": "code",
      "metadata": {
        "id": "D1LzQr53fg4Y"
      },
      "source": [
        "#Code cell #28\n",
        "#Import pandas and os library—in case we're trying to write a file to\n",
        "#a folder that doesn't exist yet\n",
        "import pandas as pd\n",
        "import os\n",
        "\n",
        "#Set a variable containing the path to the output directory. See if this\n",
        "#directory exists and, if it doesn't create it\n",
        "output_directory = '/gdrive/MyDrive/rbs_digital_approaches_2023/output/'\n",
        "if os.path.exists(output_directory) is not True :\n",
        "  os.makedirs(output_directory)\n",
        "\n",
        "df = pd.DataFrame.from_dict(author_count, orient='index')\n",
        "df.sort_index(inplace=True)\n",
        "df\n",
        "df.to_excel(output_directory + 'living_vs_dead_authors.xlsx')"
      ],
      "execution_count": null,
      "outputs": []
    },
    {
      "cell_type": "markdown",
      "metadata": {
        "id": "2VTDbvpSiALP"
      },
      "source": [
        "## Making a bar chart with plotly\n",
        "It seems like we ought to at least have something to look at at the end of all this. Let's use the `plotly` package to draw a bar chart comparing the number of living and dead authors in each year ."
      ]
    },
    {
      "cell_type": "code",
      "metadata": {
        "id": "_muoTdWXiVvd"
      },
      "source": [
        "#Code cell #29\n",
        "#Import the module we need from the plotly package. (Plotly is installed by\n",
        "#default in Google Colaboratory. In another environment, you might need to\n",
        "#install it using pip)\n",
        "import plotly.graph_objects as go\n",
        "\n",
        "#Create empty lists for the years that we'll use as our x axis and for the counts\n",
        "#that we'll chart on our y axis\n",
        "years = []\n",
        "living_counts = []\n",
        "dead_counts = []\n",
        "\n",
        "#Iterate through the keys and add values to our lists\n",
        "for year, values in author_count.items() :\n",
        "  years.append(year)\n",
        "  living_counts.append(values['living_authors'])\n",
        "  dead_counts.append(values['dead_authors'])\n",
        "\n",
        "#There's a more compact syntax for creating those lists, but one that might be\n",
        "#a little opaque if you're new to Python:\n",
        "#years = [k for k, v in author_counts.items()]\n",
        "#living_counts = [v['living_authors'] for k, v in author_counts.items()]\n",
        "#dead_counts = [v['dead_authors'] for k, v in author_counts.items()]\n",
        "\n",
        "#Create the chart using the plotly graph objects module. The \"data\" is a list of\n",
        "#two graph_objects \"bars,\" each of which has a label (\"name\"), and each of which\n",
        "#takes its values for the x and y axes from the lists we constructed above.\n",
        "fig = go.Figure(data=[\n",
        "    go.Bar(name='Living', x=years, y=living_counts),\n",
        "    go.Bar(name='Dead', x=years, y=dead_counts)\n",
        "])\n",
        "\n",
        "# Change the bar mode to group the bars together\n",
        "fig.update_layout(barmode='group')\n",
        "\n",
        "#Display the chart\n",
        "fig.show()"
      ],
      "execution_count": null,
      "outputs": []
    }
  ]
}